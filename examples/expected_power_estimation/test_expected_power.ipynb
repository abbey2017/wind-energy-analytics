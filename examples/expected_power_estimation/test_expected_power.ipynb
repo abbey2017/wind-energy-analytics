{
 "cells": [
  {
   "cell_type": "markdown",
   "id": "aa228b8f",
   "metadata": {},
   "source": [
    "### Example of expected power module usage"
   ]
  },
  {
   "cell_type": "code",
   "execution_count": 22,
   "id": "e0d6ed10-7428-451c-9a2b-2bbf852b2ac5",
   "metadata": {},
   "outputs": [],
   "source": [
    "import sys\n",
    "import numpy as np\n",
    "import pandas as pd\n",
    "import datetime as dt\n",
    "import pytz\n",
    "import matplotlib.pyplot as plt\n",
    "import seaborn as sns\n",
    "\n",
    "sys.path.append(r'C:\\Users\\abbey\\OneDrive\\Documents\\Projects\\WindEnergy\\wind-energy-analytics')\n",
    "sys.path.append(r'C:\\Users\\abbey\\OneDrive\\Documents\\Projects\\WindEnergy\\wind-energy-analytics\\scada_data_analysis')\n",
    "\n",
    "from sklearn.metrics import mean_absolute_error, mean_squared_error\n",
    "from modules.expected_power import ExpectedPower"
   ]
  },
  {
   "cell_type": "markdown",
   "id": "670c35c5-8d6f-4132-9528-7ff445ac5f9f",
   "metadata": {},
   "source": [
    "### Load Data"
   ]
  },
  {
   "cell_type": "code",
   "execution_count": 2,
   "id": "28e389a3-2e6c-441d-ab81-2260a62e1395",
   "metadata": {},
   "outputs": [],
   "source": [
    "scada_df = pd.read_csv(r'../datasets/sample_df.csv')"
   ]
  },
  {
   "cell_type": "markdown",
   "id": "7e108695-b5a6-44c5-823b-d5b7b1405a4f",
   "metadata": {},
   "source": [
    "### Data Exploration"
   ]
  },
  {
   "cell_type": "code",
   "execution_count": 3,
   "id": "d894179a-de50-40c3-ad63-fe2c3649d575",
   "metadata": {},
   "outputs": [
    {
     "data": {
      "text/plain": [
       "(54029, 3)"
      ]
     },
     "execution_count": 3,
     "metadata": {},
     "output_type": "execute_result"
    }
   ],
   "source": [
    "scada_df.shape"
   ]
  },
  {
   "cell_type": "markdown",
   "id": "c9658d87-3cbc-48e1-9001-9edd224edbc5",
   "metadata": {},
   "source": [
    "### Data Processing"
   ]
  },
  {
   "cell_type": "code",
   "execution_count": 4,
   "id": "a3ce8f7c-8be5-496c-b689-824119958b56",
   "metadata": {},
   "outputs": [],
   "source": [
    "train_df = scada_df[:38000].reset_index(drop=True)"
   ]
  },
  {
   "cell_type": "code",
   "execution_count": 5,
   "id": "863fb550-90ee-466d-aa87-95f75023f553",
   "metadata": {},
   "outputs": [],
   "source": [
    "test_df = scada_df[38000:].reset_index(drop=True)"
   ]
  },
  {
   "cell_type": "code",
   "execution_count": 6,
   "id": "b7402881-ebe1-44d9-b160-8bae3b404298",
   "metadata": {},
   "outputs": [],
   "source": [
    "assert len(train_df) + len(test_df) == len(scada_df)"
   ]
  },
  {
   "cell_type": "code",
   "execution_count": 7,
   "id": "e519a10d-9d2b-4aef-a96d-956a610f5692",
   "metadata": {},
   "outputs": [
    {
     "data": {
      "text/plain": [
       "(38000, 3)"
      ]
     },
     "execution_count": 7,
     "metadata": {},
     "output_type": "execute_result"
    }
   ],
   "source": [
    "train_df.shape"
   ]
  },
  {
   "cell_type": "markdown",
   "id": "023d607d-6d83-4fc7-ac11-85380733e9ae",
   "metadata": {},
   "source": [
    "### Test Expected Power Module"
   ]
  },
  {
   "cell_type": "code",
   "execution_count": null,
   "id": "ff11dd34-ee03-4f64-90bb-5ceff889d7d8",
   "metadata": {},
   "outputs": [],
   "source": [
    "power_model = ExpectedPower(turbine_label='title', windspeed_label='Ws_avg',\n",
    "                            power_label='P_avg', method='binning', kind='cubic')"
   ]
  },
  {
   "cell_type": "code",
   "execution_count": 9,
   "id": "d970d15b-8bb5-47d0-ab07-735741baa845",
   "metadata": {},
   "outputs": [
    {
     "name": "stdout",
     "output_type": "stream",
     "text": [
      "CPU times: total: 641 ms\n",
      "Wall time: 641 ms\n"
     ]
    }
   ],
   "source": [
    "%%time\n",
    "power_model = power_model.fit(train_df)"
   ]
  },
  {
   "cell_type": "code",
   "execution_count": 10,
   "id": "2b43a9c8-5003-4e84-ac6f-fb82ed42433e",
   "metadata": {},
   "outputs": [
    {
     "name": "stdout",
     "output_type": "stream",
     "text": [
      "CPU times: total: 0 ns\n",
      "Wall time: 8 ms\n"
     ]
    }
   ],
   "source": [
    "%%time\n",
    "pred_df = power_model.predict(test_df)"
   ]
  },
  {
   "cell_type": "markdown",
   "id": "da3a337e-0bdf-4bbd-867c-d51e80da9387",
   "metadata": {},
   "source": [
    "##### Mean absolute error metric"
   ]
  },
  {
   "cell_type": "code",
   "execution_count": 15,
   "id": "b2177e48",
   "metadata": {},
   "outputs": [
    {
     "data": {
      "text/plain": [
       "33.262422"
      ]
     },
     "execution_count": 15,
     "metadata": {},
     "output_type": "execute_result"
    }
   ],
   "source": [
    "# linear\n",
    "round(mean_absolute_error(pred_df.P_avg.values, pred_df.expected_power.values), 6)"
   ]
  },
  {
   "cell_type": "code",
   "execution_count": 20,
   "id": "fda06ee2",
   "metadata": {},
   "outputs": [
    {
     "data": {
      "text/plain": [
       "33.212291"
      ]
     },
     "execution_count": 20,
     "metadata": {},
     "output_type": "execute_result"
    }
   ],
   "source": [
    "# quad\n",
    "round(mean_absolute_error(pred_df.P_avg.values, pred_df.expected_power.values), 6)"
   ]
  },
  {
   "cell_type": "code",
   "execution_count": 11,
   "id": "49481e5f-f2b7-4460-b000-69b32d2e7141",
   "metadata": {},
   "outputs": [
    {
     "data": {
      "text/plain": [
       "33.211871"
      ]
     },
     "execution_count": 11,
     "metadata": {},
     "output_type": "execute_result"
    }
   ],
   "source": [
    "#cubic\n",
    "round(mean_absolute_error(pred_df.P_avg.values, pred_df.expected_power.values), 6)"
   ]
  },
  {
   "cell_type": "markdown",
   "id": "8935eb2d-178d-419f-a270-22dc8cc1dfad",
   "metadata": {},
   "source": [
    "##### Root mean square metric"
   ]
  },
  {
   "cell_type": "code",
   "execution_count": 16,
   "id": "4262a44c-1bba-4cbc-b8d3-0a3f6f35aa21",
   "metadata": {},
   "outputs": [
    {
     "data": {
      "text/plain": [
       "80.904492"
      ]
     },
     "execution_count": 16,
     "metadata": {},
     "output_type": "execute_result"
    }
   ],
   "source": [
    "#linear\n",
    "round(mean_squared_error(pred_df.P_avg.values, pred_df.expected_power.values, squared=False), 6)"
   ]
  },
  {
   "cell_type": "code",
   "execution_count": 21,
   "id": "ea86af14-63ef-46ab-a0fc-b1e2d8f3fe33",
   "metadata": {},
   "outputs": [
    {
     "data": {
      "text/plain": [
       "80.893853"
      ]
     },
     "execution_count": 21,
     "metadata": {},
     "output_type": "execute_result"
    }
   ],
   "source": [
    "#quad\n",
    "round(mean_squared_error(pred_df.P_avg.values, pred_df.expected_power.values, squared=False), 6)"
   ]
  },
  {
   "cell_type": "code",
   "execution_count": 12,
   "id": "534d97a5-5caa-42c5-83f4-0b7c6e00ec32",
   "metadata": {},
   "outputs": [
    {
     "data": {
      "text/plain": [
       "80.893612"
      ]
     },
     "execution_count": 12,
     "metadata": {},
     "output_type": "execute_result"
    }
   ],
   "source": [
    "#cubic\n",
    "round(mean_squared_error(pred_df.P_avg.values, pred_df.expected_power.values, squared=False), 6)"
   ]
  },
  {
   "cell_type": "code",
   "execution_count": null,
   "id": "0cee11bf-84c9-4c2d-b357-a7a663a9a397",
   "metadata": {},
   "outputs": [],
   "source": []
  }
 ],
 "metadata": {
  "kernelspec": {
   "display_name": "wea",
   "language": "python",
   "name": "wea"
  },
  "language_info": {
   "codemirror_mode": {
    "name": "ipython",
    "version": 3
   },
   "file_extension": ".py",
   "mimetype": "text/x-python",
   "name": "python",
   "nbconvert_exporter": "python",
   "pygments_lexer": "ipython3",
   "version": "3.10.4"
  }
 },
 "nbformat": 4,
 "nbformat_minor": 5
}
